{
    "cells": [
        {
            "cell_type": "markdown",
            "metadata": {
                "collapsed": true
            },
            "source": "FirstNoteBook"
        },
        {
            "cell_type": "code",
            "execution_count": 5,
            "metadata": {},
            "outputs": [
                {
                    "name": "stdout",
                    "output_type": "stream",
                    "text": "hey there \n\n"
                }
            ],
            "source": "print(\"hey there \\n\")"
        },
        {
            "cell_type": "code",
            "execution_count": 6,
            "metadata": {},
            "outputs": [
                {
                    "data": {
                        "text/html": "<div>\n<style scoped>\n    .dataframe tbody tr th:only-of-type {\n        vertical-align: middle;\n    }\n\n    .dataframe tbody tr th {\n        vertical-align: top;\n    }\n\n    .dataframe thead th {\n        text-align: right;\n    }\n</style>\n<table border=\"1\" class=\"dataframe\">\n  <thead>\n    <tr style=\"text-align: right;\">\n      <th></th>\n      <th>Run #1</th>\n      <th>Unnamed: 1</th>\n      <th>Unnamed: 2</th>\n      <th>run1 avg</th>\n      <th>Unnamed: 4</th>\n      <th>run #2</th>\n      <th>Unnamed: 6</th>\n      <th>run 2 avg</th>\n      <th>Unnamed: 8</th>\n      <th>run #3</th>\n      <th>Unnamed: 10</th>\n      <th>run 3 avg</th>\n      <th>Unnamed: 12</th>\n      <th>run #4</th>\n    </tr>\n  </thead>\n  <tbody>\n    <tr>\n      <th>0</th>\n      <td>Acceleration (m/s\u00b2)</td>\n      <td>NaN</td>\n      <td>NaN</td>\n      <td>m/s^2</td>\n      <td>NaN</td>\n      <td>Acceleration (m/s\u00b2)</td>\n      <td>NaN</td>\n      <td>m/s^2</td>\n      <td>NaN</td>\n      <td>Acceleration (m/s\u00b2)</td>\n      <td>NaN</td>\n      <td>m/s^2</td>\n      <td>NaN</td>\n      <td>NaN</td>\n    </tr>\n    <tr>\n      <th>1</th>\n      <td>NaN</td>\n      <td>NaN</td>\n      <td>NaN</td>\n      <td>NaN</td>\n      <td>NaN</td>\n      <td>NaN</td>\n      <td>NaN</td>\n      <td>NaN</td>\n      <td>NaN</td>\n      <td>NaN</td>\n      <td>NaN</td>\n      <td>NaN</td>\n      <td>NaN</td>\n      <td>NaN</td>\n    </tr>\n    <tr>\n      <th>2</th>\n      <td>NaN</td>\n      <td>NaN</td>\n      <td>NaN</td>\n      <td>NaN</td>\n      <td>NaN</td>\n      <td>NaN</td>\n      <td>NaN</td>\n      <td>NaN</td>\n      <td>NaN</td>\n      <td>NaN</td>\n      <td>NaN</td>\n      <td>NaN</td>\n      <td>NaN</td>\n      <td>NaN</td>\n    </tr>\n    <tr>\n      <th>3</th>\n      <td>0.82</td>\n      <td>NaN</td>\n      <td>NaN</td>\n      <td>0.8048</td>\n      <td>NaN</td>\n      <td>0.76</td>\n      <td>NaN</td>\n      <td>0.6996</td>\n      <td>NaN</td>\n      <td>0.77</td>\n      <td>NaN</td>\n      <td>0.7252</td>\n      <td>NaN</td>\n      <td>NaN</td>\n    </tr>\n    <tr>\n      <th>4</th>\n      <td>NaN</td>\n      <td>NaN</td>\n      <td>NaN</td>\n      <td>NaN</td>\n      <td>NaN</td>\n      <td>NaN</td>\n      <td>NaN</td>\n      <td>NaN</td>\n      <td>NaN</td>\n      <td>NaN</td>\n      <td>NaN</td>\n      <td>NaN</td>\n      <td>NaN</td>\n      <td>NaN</td>\n    </tr>\n  </tbody>\n</table>\n</div>",
                        "text/plain": "                Run #1  Unnamed: 1  Unnamed: 2 run1 avg  Unnamed: 4  \\\n0  Acceleration (m/s\u00b2)         NaN         NaN    m/s^2         NaN   \n1                  NaN         NaN         NaN      NaN         NaN   \n2                  NaN         NaN         NaN      NaN         NaN   \n3                 0.82         NaN         NaN   0.8048         NaN   \n4                  NaN         NaN         NaN      NaN         NaN   \n\n                run #2  Unnamed: 6 run 2 avg  Unnamed: 8               run #3  \\\n0  Acceleration (m/s\u00b2)         NaN     m/s^2         NaN  Acceleration (m/s\u00b2)   \n1                  NaN         NaN       NaN         NaN                  NaN   \n2                  NaN         NaN       NaN         NaN                  NaN   \n3                 0.76         NaN    0.6996         NaN                 0.77   \n4                  NaN         NaN       NaN         NaN                  NaN   \n\n   Unnamed: 10 run 3 avg  Unnamed: 12  run #4  \n0          NaN     m/s^2          NaN     NaN  \n1          NaN       NaN          NaN     NaN  \n2          NaN       NaN          NaN     NaN  \n3          NaN    0.7252          NaN     NaN  \n4          NaN       NaN          NaN     NaN  "
                    },
                    "execution_count": 6,
                    "metadata": {},
                    "output_type": "execute_result"
                }
            ],
            "source": "# The code was removed by Watson Studio for sharing."
        },
        {
            "cell_type": "code",
            "execution_count": null,
            "metadata": {},
            "outputs": [],
            "source": ""
        },
        {
            "cell_type": "code",
            "execution_count": null,
            "metadata": {},
            "outputs": [],
            "source": ""
        },
        {
            "cell_type": "code",
            "execution_count": null,
            "metadata": {},
            "outputs": [],
            "source": ""
        }
    ],
    "metadata": {
        "kernelspec": {
            "display_name": "Python 3.10",
            "language": "python",
            "name": "python3"
        },
        "language_info": {
            "codemirror_mode": {
                "name": "ipython",
                "version": 3
            },
            "file_extension": ".py",
            "mimetype": "text/x-python",
            "name": "python",
            "nbconvert_exporter": "python",
            "pygments_lexer": "ipython3",
            "version": "3.10.6"
        }
    },
    "nbformat": 4,
    "nbformat_minor": 1
}